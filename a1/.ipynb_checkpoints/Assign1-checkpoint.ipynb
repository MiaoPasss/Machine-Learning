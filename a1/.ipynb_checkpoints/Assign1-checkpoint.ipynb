{
 "cells": [
  {
   "cell_type": "markdown",
   "metadata": {},
   "source": [
    "# __<center>ECE421 - Winter 2020__\n",
    "# __<center> Assignment 1:__\n",
    "# **<center>Linear and Logistic Regression**\n",
    "\n",
    "Haotian Luo 1004102865 <br>\n",
    "Yuheng Wang\n",
    "\n",
    "<br>\n",
    "\n",
    "## 1. Linear Regression\n",
    "### &emsp; 1.1 Loss Function and Gradient\n",
    "### &emsp; 1.2 Gradient Descent Implementation\n",
    "### &emsp; 1.3 Tuning the Learning Rate\n",
    "### &emsp; 1.4 Generalization\n",
    "### &emsp; 1.5 Comparing Batch GD with normal equation"
   ]
  },
  {
   "cell_type": "code",
   "execution_count": 12,
   "metadata": {},
   "outputs": [],
   "source": [
    "import starter\n",
    "import NormalEq\n",
    "import LinReg"
   ]
  },
  {
   "cell_type": "code",
   "execution_count": null,
   "metadata": {},
   "outputs": [],
   "source": []
  }
 ],
 "metadata": {
  "kernelspec": {
   "display_name": "Python 3",
   "language": "python",
   "name": "python3"
  },
  "language_info": {
   "codemirror_mode": {
    "name": "ipython",
    "version": 3
   },
   "file_extension": ".py",
   "mimetype": "text/x-python",
   "name": "python",
   "nbconvert_exporter": "python",
   "pygments_lexer": "ipython3",
   "version": "3.6.10"
  }
 },
 "nbformat": 4,
 "nbformat_minor": 2
}
