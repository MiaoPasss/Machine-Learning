{
 "cells": [
  {
   "cell_type": "code",
   "execution_count": 13,
   "metadata": {},
   "outputs": [
    {
     "name": "stdout",
     "output_type": "stream",
     "text": [
      "tf.Tensor([10 10 10], shape=(3,), dtype=int32)\n",
      "[10 10 10]\n"
     ]
    }
   ],
   "source": [
    "import tensorflow as tf\n",
    "\n",
    "x = tf.Variable(3, name = \"x\")\n",
    "y = tf.Variable(4, name = \"y\")\n",
    "# c = tf.constant([1, 2, 3], name = \"c\")\n",
    "\n",
    "def f (x, y, c):\n",
    "    return x+y+c\n",
    "\n",
    "print(f(x, y, [3, 3, 3]))\n",
    "\n",
    "print(f(x, y, [3, 3, 3]).numpy())\n",
    "\n"
   ]
  },
  {
   "cell_type": "markdown",
   "metadata": {},
   "source": [
    "\\begin{aligned}\n",
    "& \\min\n",
    "& & \\sum_{j=1}^n c_j x_j \\\\\n",
    "& \\text{s.t.}\n",
    "& & \\sum_{j=1}^n a_{ij} x_j \\geq k, \\; i = 1, \\cdots, m \\\\\n",
    "& & &  \\; x_j \\in \\{0,1\\}, \\;  j = 1, \\cdots, n \n",
    "\\end{aligned}"
   ]
  },
  {
   "cell_type": "markdown",
   "metadata": {},
   "source": [
    "\\begin{equation*}\n",
    "\\begin{aligned}\n",
    "& \\min\n",
    "& & \\sum_{j=1}^n c_j x_j \\\\\n",
    "& \\; \\text{s.t.}\n",
    "& & \\sum_{j=1}^n a_{ij} x_j \\geq k, \\; i = 1, \\cdots, m \\\\\n",
    "& & &  \\; x_j \\in \\{0,1\\}, \\;  j = 1, \\cdots, n \n",
    "\\end{aligned}\n",
    "\\end{equation*}"
   ]
  },
  {
   "cell_type": "markdown",
   "metadata": {},
   "source": [
    "\\begin{equation}\n",
    "\\min \\sum_{j=1}^n x^2 + y^2 = z^2\n",
    "\\end{equation}"
   ]
  },
  {
   "cell_type": "code",
   "execution_count": 21,
   "metadata": {},
   "outputs": [
    {
     "name": "stdout",
     "output_type": "stream",
     "text": [
      "1111\n"
     ]
    }
   ],
   "source": [
    "d = {1111:1, 123:1, 234:1, 456:3, 345:8}\n",
    "x = min(d, key=d.get)\n",
    "print(x)"
   ]
  },
  {
   "cell_type": "code",
   "execution_count": 46,
   "metadata": {},
   "outputs": [
    {
     "data": {
      "text/plain": [
       "array([False, False, False, ...,  True,  True,  True])"
      ]
     },
     "execution_count": 46,
     "metadata": {},
     "output_type": "execute_result"
    }
   ],
   "source": [
    "dataIndx"
   ]
  },
  {
   "cell_type": "code",
   "execution_count": null,
   "metadata": {},
   "outputs": [],
   "source": [
    "import tensorflow as tf\n",
    "import numpy as np\n",
    "import matplotlib.pyplot as plt\n",
    "\n",
    "data = np.load('notMNIST.npz')\n",
    "Data, Target = data ['images'], data['labels']\n",
    "posClass = 2\n",
    "negClass = 9\n",
    "dataIndx = (Target==posClass) + (Target==negClass)\n",
    "Data = Data[dataIndx]/255.\n",
    "Target = Target[dataIndx].reshape(-1, 1)\n",
    "Target[Target==posClass] = 1\n",
    "Target[Target==negClass] = 0\n",
    "np.random.seed(421)\n",
    "randIndx = np.arange(len(Data))\n",
    "np.random.shuffle(randIndx)\n",
    "Data, Target = Data[randIndx], Target[randIndx]\n",
    "trainData, trainTarget = Data[:3500], Target[:3500]\n",
    "validData, validTarget = Data[3500:3600], Target[3500:3600]\n",
    "testData, testTarget = Data[3600:], Target[3600:]"
   ]
  }
 ],
 "metadata": {
  "kernelspec": {
   "display_name": "Python 3",
   "language": "python",
   "name": "python3"
  },
  "language_info": {
   "codemirror_mode": {
    "name": "ipython",
    "version": 3
   },
   "file_extension": ".py",
   "mimetype": "text/x-python",
   "name": "python",
   "nbconvert_exporter": "python",
   "pygments_lexer": "ipython3",
   "version": "3.6.10"
  }
 },
 "nbformat": 4,
 "nbformat_minor": 2
}
