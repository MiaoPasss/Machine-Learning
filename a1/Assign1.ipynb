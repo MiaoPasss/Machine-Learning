{
 "cells": [
  {
   "cell_type": "code",
   "execution_count": 13,
   "metadata": {},
   "outputs": [
    {
     "name": "stdout",
     "output_type": "stream",
     "text": [
      "tf.Tensor([10 10 10], shape=(3,), dtype=int32)\n",
      "[10 10 10]\n"
     ]
    }
   ],
   "source": [
    "import tensorflow as tf\n",
    "\n",
    "x = tf.Variable(3, name = \"x\")\n",
    "y = tf.Variable(4, name = \"y\")\n",
    "# c = tf.constant([1, 2, 3], name = \"c\")\n",
    "\n",
    "def f (x, y, c):\n",
    "    return x+y+c\n",
    "\n",
    "print(f(x, y, [3, 3, 3]))\n",
    "\n",
    "print(f(x, y, [3, 3, 3]).numpy())\n",
    "\n"
   ]
  },
  {
   "cell_type": "markdown",
   "metadata": {},
   "source": [
    "\\begin{aligned}\n",
    "& \\min\n",
    "& & \\sum_{j=1}^n c_j x_j \\\\\n",
    "& \\text{s.t.}\n",
    "& & \\sum_{j=1}^n a_{ij} x_j \\geq k, \\; i = 1, \\cdots, m \\\\\n",
    "& & &  \\; x_j \\in \\{0,1\\}, \\;  j = 1, \\cdots, n \n",
    "\\end{aligned}"
   ]
  },
  {
   "cell_type": "markdown",
   "metadata": {},
   "source": [
    "\\begin{equation*}\n",
    "\\begin{aligned}\n",
    "& \\min\n",
    "& & \\sum_{j=1}^n c_j x_j \\\\\n",
    "& \\; \\text{s.t.}\n",
    "& & \\sum_{j=1}^n a_{ij} x_j \\geq k, \\; i = 1, \\cdots, m \\\\\n",
    "& & &  \\; x_j \\in \\{0,1\\}, \\;  j = 1, \\cdots, n \n",
    "\\end{aligned}\n",
    "\\end{equation*}"
   ]
  },
  {
   "cell_type": "markdown",
   "metadata": {},
   "source": [
    "\\begin{equation}\n",
    "\\min \\sum_{j=1}^n x^2 + y^2 = z^2\n",
    "\\end{equation}"
   ]
  },
  {
   "cell_type": "code",
   "execution_count": 21,
   "metadata": {},
   "outputs": [
    {
     "name": "stdout",
     "output_type": "stream",
     "text": [
      "1111\n"
     ]
    }
   ],
   "source": [
    "d = {1111:1, 123:1, 234:1, 456:3, 345:8}\n",
    "x = min(d, key=d.get)\n",
    "print(x)"
   ]
  },
  {
   "cell_type": "code",
   "execution_count": 46,
   "metadata": {},
   "outputs": [
    {
     "data": {
      "text/plain": [
       "array([False, False, False, ...,  True,  True,  True])"
      ]
     },
     "execution_count": 46,
     "metadata": {},
     "output_type": "execute_result"
    }
   ],
   "source": [
    "dataIndx"
   ]
  },
  {
   "cell_type": "markdown",
   "metadata": {},
   "source": [
    "# __<center>ECE421 - Winter 2020__\n",
    "# __<center> Assignment 1:__\n",
    "# **<center>Linear and Logistic Regression**"
   ]
  }
 ],
 "metadata": {
  "kernelspec": {
   "display_name": "Python 3",
   "language": "python",
   "name": "python3"
  },
  "language_info": {
   "codemirror_mode": {
    "name": "ipython",
    "version": 3
   },
   "file_extension": ".py",
   "mimetype": "text/x-python",
   "name": "python",
   "nbconvert_exporter": "python",
   "pygments_lexer": "ipython3",
   "version": "3.6.10"
  }
 },
 "nbformat": 4,
 "nbformat_minor": 2
}
